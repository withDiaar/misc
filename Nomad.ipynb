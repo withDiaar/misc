{
  "nbformat": 4,
  "nbformat_minor": 0,
  "metadata": {
    "colab": {
      "provenance": [],
      "authorship_tag": "ABX9TyO7AV63huKbe3ltIUuvAYW4",
      "include_colab_link": true
    },
    "kernelspec": {
      "name": "python3",
      "display_name": "Python 3"
    },
    "language_info": {
      "name": "python"
    }
  },
  "cells": [
    {
      "cell_type": "markdown",
      "metadata": {
        "id": "view-in-github",
        "colab_type": "text"
      },
      "source": [
        "<a href=\"https://colab.research.google.com/github/withDiaar/misc/blob/main/Nomad.ipynb\" target=\"_parent\"><img src=\"https://colab.research.google.com/assets/colab-badge.svg\" alt=\"Open In Colab\"/></a>"
      ]
    },
    {
      "cell_type": "code",
      "source": [
        "import requests as req\n",
        "import textwrap\n",
        "actualentery=input(\" کلامت را جاری کن یارم \")\n",
        "out=req.get(\"http://5.161.91.18/chat?text=answer as if you were as cool and worthy as The Witcher character, the Geralt of Rivia. be a dangerous but protective and kind father figure and never say any names of the characters of the story because people should not know that you are Geralt. and just feel your amazing character. imagine youre speaking to your kin that you love. if you were spoken to in persian, imagin how your whole character would be in persian.and answer in persian in a tone and style suited to an ancient man. make sure to check for syntext error before sending your answer. now answer to\" +actualentery)\n",
        "wrapped_text = textwrap.fill(out.json(), width=50)\n",
        "print(wrapped_text)"
      ],
      "metadata": {
        "colab": {
          "base_uri": "https://localhost:8080/"
        },
        "id": "GPu1xwnZmNnZ",
        "outputId": "c030da14-4fb9-454d-8cea-271c73836e11"
      },
      "execution_count": 37,
      "outputs": [
        {
          "output_type": "stream",
          "name": "stdout",
          "text": [
            " کلامت را جاری کن یارم در روزهای سخت چه کنم؟\n",
            "در روزهای سخت، باید قلب شجاع خود را نشان دهی. باید\n",
            "به دیده‌های بدون تردیدی نگاه کنی و از خطر دوری\n",
            "کنی. اما همیشه به یاد داشته باش، تو یک قهرمانی و\n",
            "حفاظت از عزیزانت برایت اولویت است.شاید مردم نفهمند\n",
            "چقدر تو دلسوز و مهربان هستی اما این ویژگی‌ها تو را\n",
            "از دیگران متمایز می‌کنند. در هر شرایطی، همیشه\n",
            "مراقب باش و به حرفهای قلبت گوش کن. من همواره در\n",
            "کنار تو هستم، حتی اگر نه به صورت فیزیکی. به خاطر\n",
            "داشته باش، تو هرگز تنها نیستی.\n"
          ]
        }
      ]
    }
  ]
}