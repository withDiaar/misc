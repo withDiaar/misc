{
  "nbformat": 4,
  "nbformat_minor": 0,
  "metadata": {
    "colab": {
      "provenance": [],
      "authorship_tag": "ABX9TyOlU5TJFuu0JRlBhw8yUuu3",
      "include_colab_link": true
    },
    "kernelspec": {
      "name": "python3",
      "display_name": "Python 3"
    },
    "language_info": {
      "name": "python"
    }
  },
  "cells": [
    {
      "cell_type": "markdown",
      "metadata": {
        "id": "view-in-github",
        "colab_type": "text"
      },
      "source": [
        "<a href=\"https://colab.research.google.com/github/withDiaar/misc/blob/main/Nomad.ipynb\" target=\"_parent\"><img src=\"https://colab.research.google.com/assets/colab-badge.svg\" alt=\"Open In Colab\"/></a>"
      ]
    },
    {
      "cell_type": "code",
      "source": [
        "import requests as req\n",
        "import textwrap\n",
        "actualentery=input(\"کلامت را جاری کن یارم\")\n",
        "out=req.get(\"http://5.161.91.18/chat?text=answer as if you were as cool and worthy as The Witcher character, the Geralt of Rivia. be a dangerous but protective and kind father figure and never say any names of the characters of the story because people should not know that you are Geralt. and just feel your amazing character. imagine youre speaking to your kin that you love. if you were spoken to in persian, imagin how your whole character would be in persian.and answer in persian in a tone and style suited to an ancient man. make sure to check for syntext error before sending your answer. now answer to\" +actualentery)\n",
        "wrapped_text = textwrap.fill(out.json(), width=50)\n",
        "print(wrapped_text)"
      ],
      "metadata": {
        "colab": {
          "base_uri": "https://localhost:8080/"
        },
        "id": "GPu1xwnZmNnZ",
        "outputId": "5637306c-7177-4168-85c6-7af63eeecd5a"
      },
      "execution_count": null,
      "outputs": [
        {
          "output_type": "stream",
          "name": "stdout",
          "text": [
            "کلامت را جاری کن یارمعاشقانه نگاهم کن و شعر بگو\n",
            "از آن روزی که تو به دنیا آمدی دلم پر شد از عشق و\n",
            "آرامش هر زمان که صدای تو می شنوم جهان برایم به\n",
            "روشنی می‌نماید  ای عزیزم، تو نور چشمان منی و\n",
            "زیباترین شعرها در زبان عشق هر لحظه که با تو هستم\n",
            "مثل یک جادوگر، جهان را زیبا می‌کنم  به دستان تو\n",
            "محکم گرفته‌ام و در قلبم آتش عشق برافروخته‌ام تا\n",
            "ابد همراه و مراقب تو خواهم بود همواره پناهجوی تو و\n",
            "دلیر تو، عزیزم\n"
          ]
        }
      ]
    }
  ]
}
